{
 "cells": [
  {
   "cell_type": "code",
   "execution_count": 22,
   "id": "de588973",
   "metadata": {},
   "outputs": [
    {
     "name": "stderr",
     "output_type": "stream",
     "text": [
      "IOPub data rate exceeded.\n",
      "The notebook server will temporarily stop sending output\n",
      "to the client in order to avoid crashing it.\n",
      "To change this limit, set the config variable\n",
      "`--NotebookApp.iopub_data_rate_limit`.\n",
      "\n",
      "Current values:\n",
      "NotebookApp.iopub_data_rate_limit=1000000.0 (bytes/sec)\n",
      "NotebookApp.rate_limit_window=3.0 (secs)\n",
      "\n"
     ]
    }
   ],
   "source": [
    "from lxml import etree\n",
    "import os, glob, shutil\n",
    "\n",
    "# ignorer les fichiers cachés dans le directoire avec les docs d'entrée (p. ex. le '._5419000_r.xml') \n",
    "def listdir_nohidden(path):\n",
    "    return glob.glob(os.path.join(path, '*'))\n",
    "\n",
    "# spécifier les docs d'entrée\n",
    "directory_in = listdir_nohidden(\"./xml_source/\") \n",
    "\n",
    "# enlever l'extension .xml des fichiers d'entrée \n",
    "for file_in in directory_in:\n",
    "    element = root.find('page')\n",
    "    \n",
    "    # enlever l'élément <page n=\"1\"/> avec les métadonnées (page de titre)\n",
    "    # elles vont être indiquées manuellement par la suite\n",
    "    tree = etree.parse(file_in)\n",
    "    # for bad in tree.xpath(\"//page[@n=\\'1\\']\"):\n",
    "        # bad.getparent().remove(bad)     # here I grab the parent of the element to call the remove directly on it  \n",
    "    root = tree.getroot()\n",
    "    file_in = os.path.basename(file_in)\n",
    "    file_in = os.path.splitext(file_in)[0]\n",
    "    # print(file_in) # CA_000001_001_texte\n",
    "    \n",
    "    # créer les fichiers .txt à partir des ceux en .xml\n",
    "    file_out = '{}'.format(file_in)+'.txt'\n",
    "    # print(file_out) # 5419000_r.txt, test.txt\n",
    "    directory_out = os.path.join(\"./txt/\", file_out)\n",
    "    # print(directory_out) # ./docs/CA_000001_001_texte.txt\n",
    "    \n",
    "\n",
    "    with open(directory_out, 'w') as f:\n",
    "        f.write(\"Titre :\\nAuteur :\\nDate :\\n\\n\")\n",
    "        # enlever les balises XML afin de transférer le contenu des fichiers .xml dans les fichiers .txt\n",
    "\n",
    "        for elem in root.iter('*'):\n",
    "            if elem.text is not None:\n",
    "                text = elem.text.strip()\n",
    "                if elem.tail is not None:\n",
    "                    text = elem.text.strip() + str(elem.tail) # pour récupérer le texte dans la balise imbriquée\n",
    "                                                               # ex : par le moyen des <hi rend=\"i\">emblèmes</hi>,\n",
    "                    print(text)\n",
    "             \n",
    "        \n",
    "                    f.write(text + \"\\n\")\n",
    "               "
   ]
  },
  {
   "cell_type": "code",
   "execution_count": null,
   "id": "34263a04",
   "metadata": {},
   "outputs": [],
   "source": []
  }
 ],
 "metadata": {
  "kernelspec": {
   "display_name": "venv",
   "language": "python",
   "name": "venv"
  },
  "language_info": {
   "codemirror_mode": {
    "name": "ipython",
    "version": 3
   },
   "file_extension": ".py",
   "mimetype": "text/x-python",
   "name": "python",
   "nbconvert_exporter": "python",
   "pygments_lexer": "ipython3",
   "version": "3.10.2"
  }
 },
 "nbformat": 4,
 "nbformat_minor": 5
}
